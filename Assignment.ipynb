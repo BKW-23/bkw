{
 "cells": [
  {
   "cell_type": "markdown",
   "id": "523710f1-f974-4d20-824b-0765dc5408f0",
   "metadata": {},
   "source": [
    "# %load_ext 1111"
   ]
  },
  {
   "cell_type": "code",
   "execution_count": null,
   "id": "efe03ee8-3e39-456a-93fb-52be3fa331dd",
   "metadata": {},
   "outputs": [],
   "source": [
    "%load_ext sql\n"
   ]
  },
  {
   "cell_type": "code",
   "execution_count": null,
   "id": "ffbfa783-70b2-46bb-982c-2ff30900df5e",
   "metadata": {},
   "outputs": [],
   "source": []
  }
 ],
 "metadata": {
  "kernelspec": {
   "display_name": "Python 3 (ipykernel)",
   "language": "python",
   "name": "python3"
  },
  "language_info": {
   "codemirror_mode": {
    "name": "ipython",
    "version": 3
   },
   "file_extension": ".py",
   "mimetype": "text/x-python",
   "name": "python",
   "nbconvert_exporter": "python",
   "pygments_lexer": "ipython3",
   "version": "3.12.5"
  }
 },
 "nbformat": 4,
 "nbformat_minor": 5
}
